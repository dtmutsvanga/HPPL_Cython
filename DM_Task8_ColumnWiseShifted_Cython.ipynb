{
 "cells": [
  {
   "cell_type": "code",
   "execution_count": null,
   "metadata": {},
   "outputs": [],
   "source": [
    "import matplotlib.pyplot as plt\n",
    "import numpy as np\n",
    "import imageio\n",
    "from mpi4py import MPI"
   ]
  },
  {
   "cell_type": "code",
   "execution_count": null,
   "metadata": {},
   "outputs": [],
   "source": [
    "# Generate Random image\n",
    "r = 150\n",
    "c = 200\n",
    "np.random.seed(55)\n",
    "picture = np.random.choice(range(0, 5),size=(r,c), p=[0.2,0.15,0.15,0.1,0.4])\n",
    "fig = plt.figure(figsize = (12,6))\n",
    "plt.imshow(picture, cmap='Purples' )\n",
    "plt.savefig('pic.png')"
   ]
  },
  {
   "cell_type": "code",
   "execution_count": null,
   "metadata": {},
   "outputs": [],
   "source": []
  },
  {
   "cell_type": "code",
   "execution_count": null,
   "metadata": {},
   "outputs": [],
   "source": [
    "!mpiexec -n 4 python Task8.py"
   ]
  },
  {
   "cell_type": "code",
   "execution_count": null,
   "metadata": {},
   "outputs": [],
   "source": [
    "# Save npy arrays\n",
    "res = []\n",
    "for i in range(4):\n",
    "    with open(str(i)+'.npy', 'rb') as f:\n",
    "        res.append(np.load(f))\n",
    "res = np.concatenate(res,axis = 1)"
   ]
  },
  {
   "cell_type": "code",
   "execution_count": null,
   "metadata": {},
   "outputs": [],
   "source": [
    "res.shape"
   ]
  },
  {
   "cell_type": "code",
   "execution_count": null,
   "metadata": {},
   "outputs": [],
   "source": [
    "# Save col-sifted images to later make gif\n",
    "!mkdir picture\n",
    "for i,step in enumerate(res):\n",
    "    fig = plt.figure(figsize = (14,11))\n",
    "    plt.imshow(step, cmap='Purples' )\n",
    "    if i < 10:\n",
    "        plt.savefig('picture/'+'00'+str(i)+'.png')\n",
    "    elif i < 100:\n",
    "        plt.savefig('picture/'+'0'+str(i)+'.png')\n",
    "    else:\n",
    "        plt.savefig('picture/'+str(i)+'.png')\n",
    "    plt.close(fig)"
   ]
  },
  {
   "cell_type": "code",
   "execution_count": null,
   "metadata": {},
   "outputs": [],
   "source": [
    "# make gif, display it\n",
    "from os import listdir\n",
    "images = []\n",
    "for filename in sorted(listdir('picture')):\n",
    "    images.append(imageio.imread('picture/'+filename))\n",
    "imageio.mimsave('picture/picture.gif', images)"
   ]
  },
  {
   "cell_type": "code",
   "execution_count": null,
   "metadata": {},
   "outputs": [],
   "source": [
    "from IPython.display import Image\n",
    "Image(filename=\"picture/picture.gif\")"
   ]
  },
  {
   "cell_type": "code",
   "execution_count": null,
   "metadata": {},
   "outputs": [],
   "source": []
  },
  {
   "cell_type": "code",
   "execution_count": null,
   "metadata": {},
   "outputs": [],
   "source": [
    "!mpiexec -n 2 python -m memory_profiler Task8.py"
   ]
  },
  {
   "cell_type": "markdown",
   "metadata": {},
   "source": [
    "# Cython Optimization"
   ]
  },
  {
   "cell_type": "markdown",
   "metadata": {},
   "source": [
    "#### Step 1 Create python file: Task8.py"
   ]
  },
  {
   "cell_type": "code",
   "execution_count": null,
   "metadata": {},
   "outputs": [],
   "source": [
    "from mpi4py import MPI\n",
    "import numpy as np\n",
    "\n",
    "comm = MPI.COMM_WORLD\n",
    "rank = comm.Get_rank()\n",
    "size = comm.Get_size()\n",
    "r = 150\n",
    "c = 200\n",
    "np.random.seed(55)\n",
    "picture = np.random.choice(range(0, 5),size=(r,c), p=[0.2,0.15,0.15,0.1,0.4])\n",
    "\n",
    "if size > r:\n",
    "    size = r\n",
    "if rank<size:\n",
    "    index_start = int(rank * r / size)\n",
    "    index_end = int((rank+1) * r / size)\n",
    "    #print(index_start,index_end)\n",
    "    if rank == size - 1:\n",
    "        index_end = r\n",
    "    steps = []\n",
    "    picture = picture[index_start:index_end]\n",
    "    steps = [picture.copy()]\n",
    "    for _ in range(c):\n",
    "        for row in range(picture.shape[0]):\n",
    "            tmp = picture[row,0]\n",
    "            for column in range(c-1):\n",
    "                picture[row,column] = picture[row,column+1]\n",
    "            picture[row,c-1] = tmp\n",
    "        steps.append(picture.copy())\n",
    "    steps = np.array(steps)\n",
    "    with open(str(rank)+'.npy', 'wb') as f:\n",
    "        np.save(f, steps)"
   ]
  },
  {
   "cell_type": "markdown",
   "metadata": {},
   "source": [
    "#### Step 2 : Create cython pyx file"
   ]
  },
  {
   "cell_type": "code",
   "execution_count": null,
   "metadata": {},
   "outputs": [],
   "source": [
    "# Before loading,  let's see how much we've optimized\n",
    "# Load cython extension\n",
    "%load_ext cython"
   ]
  },
  {
   "cell_type": "code",
   "execution_count": null,
   "metadata": {},
   "outputs": [],
   "source": [
    "%%cython -a\n",
    "from mpi4py import MPI\n",
    "import numpy as np\n",
    "\n",
    "cpdef run():\n",
    "    comm = MPI.COMM_WORLD\n",
    "    rank = comm.Get_rank()\n",
    "    size = comm.Get_size()\n",
    "    cdef int r = 150\n",
    "    cdef int c = 200\n",
    "    np.random.seed(55)\n",
    "    cdef int [:,:] picture = np.random.choice(range(0, 5),size=(r,c), p=[0.2,0.15,0.15,0.1,0.4])\n",
    "    #int [r, c] pic_c = picture\n",
    "    steps = []\n",
    "    cdef int tmp \n",
    "    if size > r:\n",
    "        size = r\n",
    "    if rank<size:\n",
    "        index_start = <int>(rank * r / size)\n",
    "        index_end = <int>((rank+1) * r / size)\n",
    "        #print(index_start,index_end)\n",
    "        if rank == size - 1:\n",
    "            index_end = r\n",
    "        \n",
    "        picture = picture[index_start:index_end]\n",
    "        steps = [picture.copy()]\n",
    "        for _ in range(c):\n",
    "            for row in range(picture.shape[0]):\n",
    "                tmp = picture[row,0]\n",
    "                for column in range(c-1):\n",
    "                    picture[row,column] = picture[row,column+1]\n",
    "                picture[row,c-1] = tmp\n",
    "            steps.append(picture.copy())\n",
    "        steps = np.array(steps)\n",
    "        with open(str(rank)+'.npy', 'wb') as f:\n",
    "            np.save(f, steps)"
   ]
  },
  {
   "cell_type": "code",
   "execution_count": null,
   "metadata": {},
   "outputs": [],
   "source": [
    "%%writefile task8_cy.pyx\n",
    "from mpi4py import MPI\n",
    "import numpy as np\n",
    "\n",
    "cpdef run():\n",
    "    comm = MPI.COMM_WORLD\n",
    "    rank = comm.Get_rank()\n",
    "    size = comm.Get_size()\n",
    "    cdef int r = 150\n",
    "    cdef int c = 200\n",
    "    np.random.seed(55)\n",
    "    cdef int [:,:] picture = np.random.choice(range(0, 5),size=(r,c), p=[0.2,0.15,0.15,0.1,0.4])\n",
    "    #int [r, c] pic_c = picture\n",
    "    steps = []\n",
    "    cdef int tmp \n",
    "    if size > r:\n",
    "        size = r\n",
    "    if rank<size:\n",
    "        index_start = <int>(rank * r / size)\n",
    "        index_end = <int>((rank+1) * r / size)\n",
    "        #print(index_start,index_end)\n",
    "        if rank == size - 1:\n",
    "            index_end = r\n",
    "        \n",
    "        picture = picture[index_start:index_end]\n",
    "        steps = [picture.copy()]\n",
    "        for _ in range(c):\n",
    "            for row in range(picture.shape[0]):\n",
    "                tmp = picture[row,0]\n",
    "                for column in range(c-1):\n",
    "                    picture[row,column] = picture[row,column+1]\n",
    "                picture[row,c-1] = tmp\n",
    "            steps.append(picture.copy())\n",
    "        steps = np.array(steps)\n",
    "        with open(str(rank)+'.npy', 'wb') as f:\n",
    "            np.save(f, steps)"
   ]
  },
  {
   "cell_type": "markdown",
   "metadata": {},
   "source": [
    "#### Step 3 Create Setup file "
   ]
  },
  {
   "cell_type": "code",
   "execution_count": null,
   "metadata": {},
   "outputs": [],
   "source": [
    "%%writefile setup_task8.py\n",
    "from setuptools import setup\n",
    "from Cython.Build import cythonize\n",
    "\n",
    "setup(\n",
    "    name='Columnwise Shift',\n",
    "    ext_modules=cythonize(\"task8_cy.pyx\"),\n",
    "    zip_safe=False,\n",
    ")"
   ]
  },
  {
   "cell_type": "markdown",
   "metadata": {},
   "source": [
    "#### Step 4 Build the cython file"
   ]
  },
  {
   "cell_type": "code",
   "execution_count": null,
   "metadata": {},
   "outputs": [],
   "source": [
    "!python setup_task8.py build_ext --inplace"
   ]
  },
  {
   "cell_type": "code",
   "execution_count": null,
   "metadata": {},
   "outputs": [],
   "source": [
    "%%writefile task8_run.py\n",
    "import task8_cy\n",
    "task8_cy.run()\n",
    "#This is the file that will be used for mpi calls"
   ]
  },
  {
   "cell_type": "code",
   "execution_count": null,
   "metadata": {},
   "outputs": [],
   "source": [
    "%timeit !python task8_run.py\n",
    "%timeit !python Task8.py\n"
   ]
  },
  {
   "cell_type": "code",
   "execution_count": null,
   "metadata": {},
   "outputs": [],
   "source": [
    "res_py = []\n",
    "res_cy = []\n",
    "for i in range(1, 5):\n",
    "    res = %timeit -o !mpiexec -n {i} python Task8.py\n",
    "    res_py.append(res.average)\n",
    "    res = %timeit -o !mpiexec -n {i} python task8_run.py\n",
    "    res_cy.append(res.average)"
   ]
  },
  {
   "cell_type": "code",
   "execution_count": null,
   "metadata": {},
   "outputs": [],
   "source": [
    "%pylab inline\n",
    "#times = [1 / x * times[0] for x in times]\n",
    "figure(figsize = (16,8))\n",
    "plot(range(1,len(res_py)+1,1), res_py,label = 'Python')\n",
    "plot(range(1,len(res_py)+1,1), res_cy,label = 'Cython')\n",
    "#plot(range(1,len(times)+1), range(1,len(times)+1),label='desired')\n",
    "plt.title(\"Acceleration vs number of processes\")\n",
    "plt.xlabel('Number of processes')\n",
    "plt.ylabel('Acceleration')\n",
    "plt.grid()\n",
    "plt.legend()\n",
    "plt.show()"
   ]
  },
  {
   "cell_type": "code",
   "execution_count": null,
   "metadata": {},
   "outputs": [],
   "source": [
    "import tracemalloc\n",
    "from tqdm import tqdm"
   ]
  },
  {
   "cell_type": "code",
   "execution_count": null,
   "metadata": {},
   "outputs": [],
   "source": [
    "num_processes = [1,2,3,4]\n",
    "curs_py = []\n",
    "peaks_py = []\n",
    "curs_cy = []\n",
    "peaks_cy = []\n",
    "#tracemalloc.start()\n",
    "for n in num_processes:\n",
    "    tracemalloc.start()\n",
    "    for i in range(2**20):\n",
    "        pass\n",
    "    \n",
    "    !mpiexec -n {n} python Task8.py\n",
    "    current, peak = tracemalloc.get_traced_memory()\n",
    "    tracemalloc.stop()\n",
    "    peaks_py.append(peak)\n",
    "    curs_py.append(current)\n",
    "    tracemalloc.start()\n",
    "    for i in range(2**20):\n",
    "        pass\n",
    "    !mpiexec -n {n} python task8_run.py\n",
    "    current, peak = tracemalloc.get_traced_memory()\n",
    "    tracemalloc.stop()\n",
    "    peaks_cy.append(peak)\n",
    "    curs_cy.append(current)"
   ]
  },
  {
   "cell_type": "code",
   "execution_count": null,
   "metadata": {},
   "outputs": [],
   "source": [
    "plt.figure(figsize=(8, 4))\n",
    "plt.plot(num_processes, peaks_cy, linewidth=2, label='python')\n",
    "plt.plot(num_processes, peaks_py, linewidth=2, label='cython')\n",
    "plt.legend(('cython', 'python'))\n",
    "plt.title(\"Memory consumption\", fontsize=15)\n",
    "plt.xlabel(\"№ of processes\")\n",
    "plt.ylabel(\"Memory Consumption\")\n",
    "plt.grid(True)"
   ]
  },
  {
   "cell_type": "markdown",
   "metadata": {},
   "source": [
    "# Conclusion\n",
    "1. Using MPI4PY resulted in an increase in speed proportional to the number of processes spawned\n",
    "2. However, the total memory dropped from 1 process to two, then remained constant thereafter."
   ]
  }
 ],
 "metadata": {
  "kernelspec": {
   "display_name": "Python 3",
   "language": "python",
   "name": "python3"
  },
  "language_info": {
   "codemirror_mode": {
    "name": "ipython",
    "version": 3
   },
   "file_extension": ".py",
   "mimetype": "text/x-python",
   "name": "python",
   "nbconvert_exporter": "python",
   "pygments_lexer": "ipython3",
   "version": "3.8.6"
  }
 },
 "nbformat": 4,
 "nbformat_minor": 4
}
