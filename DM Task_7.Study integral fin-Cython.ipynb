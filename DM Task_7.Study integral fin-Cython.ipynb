{
 "cells": [
  {
   "cell_type": "code",
   "execution_count": 7,
   "metadata": {
    "ExecuteTime": {
     "end_time": "2019-11-27T22:44:59.469649Z",
     "start_time": "2019-11-27T22:44:58.713307Z"
    }
   },
   "outputs": [
    {
     "data": {
      "text/html": [
       "<style>.container { width:95% !important; }</style>"
      ],
      "text/plain": [
       "<IPython.core.display.HTML object>"
      ]
     },
     "metadata": {},
     "output_type": "display_data"
    },
    {
     "data": {
      "application/javascript": [
       "IPython.notebook.set_autosave_interval(120000)"
      ]
     },
     "metadata": {},
     "output_type": "display_data"
    },
    {
     "name": "stdout",
     "output_type": "stream",
     "text": [
      "Autosaving every 120 seconds\n"
     ]
    }
   ],
   "source": [
    "import numpy as np\n",
    "import matplotlib.pyplot as plt\n",
    "#from tqdm.auto import tqdm\n",
    "import tqdm\n",
    "from mpi4py import MPI\n",
    "# Wider cells\n",
    "from IPython.core.display import display, HTML\n",
    "display(HTML(\"<style>.container { width:95% !important; }</style>\"))\n",
    "\n",
    "# Make sure folder for images exist\n",
    "import os\n",
    "try:\n",
    "    os.mkdir('imgs/')\n",
    "except FileExistsError as err:\n",
    "    pass\n",
    "\n",
    "# Jupyter magic\n",
    "%reload_ext autoreload\n",
    "%autoreload 2\n",
    "%matplotlib inline\n",
    "%autosave 120"
   ]
  },
  {
   "cell_type": "markdown",
   "metadata": {},
   "source": [
    "* <big> $ S = \\displaystyle \\int_a^b  \\displaystyle \\frac{1}{\\sqrt{1 + x^2}} \\, dx$ </big>, where $a = 5$ and $b = 7$\n",
    "\n",
    "1. Provide a parallel numerical computation of the integral $S$ using, for example, the trapezoidal approximation $\\displaystyle \\int_{a}^{b} f(x) \\approx S_D = \\displaystyle \\sum_{k = 1}^{N-1} \\displaystyle \\frac{f\\left(a + k \\,\\tau\\right)+ f\\left(a + \\left(k - 1\\right) \\tau\\right) }{2}\\,\\,\\tau$, where $ a + (N - 1)\\tau = b$\n",
    "\n",
    "#### Analytical expression\n",
    "$ S = ln(x + \\sqrt{1 + x^2}) |_a^b$"
   ]
  },
  {
   "cell_type": "code",
   "execution_count": 8,
   "metadata": {
    "ExecuteTime": {
     "end_time": "2019-11-27T21:55:16.682271Z",
     "start_time": "2019-11-27T21:55:16.644977Z"
    }
   },
   "outputs": [],
   "source": [
    "from integral import integrate\n",
    "\n",
    "def f(x):\n",
    "    \"\"\" Function to integrate\n",
    "    Args:\n",
    "        x: value to count\n",
    "    \"\"\"\n",
    "    return 1 / np.sqrt(1 + x ** 2)\n",
    "\n",
    "def g(x):\n",
    "    \"\"\" Analytical expression of f(x)\n",
    "    Args:\n",
    "        x: func value\n",
    "    \"\"\"\n",
    "    return np.log(x + np.sqrt(1 + x ** 2))"
   ]
  },
  {
   "cell_type": "code",
   "execution_count": 12,
   "metadata": {
    "ExecuteTime": {
     "end_time": "2019-11-27T21:55:31.821973Z",
     "start_time": "2019-11-27T21:55:17.766427Z"
    }
   },
   "outputs": [],
   "source": [
    "D_range = np.linspace(10, 10000, num=1000)\n",
    "limits = [5, 7]\n",
    "S = g(limits[1]) - g(limits[0]) # exact value\n",
    "err = []\n",
    "for D in D_range:\n",
    "    S_d = integrate(f, limits=limits, num_steps=int(D))\n",
    "    err.append(S - S_d)"
   ]
  },
  {
   "cell_type": "code",
   "execution_count": 13,
   "metadata": {
    "ExecuteTime": {
     "end_time": "2019-11-27T21:55:32.327367Z",
     "start_time": "2019-11-27T21:55:31.824286Z"
    }
   },
   "outputs": [
    {
     "data": {
      "text/plain": [
       "<matplotlib.legend.Legend at 0x1e0a02ad0d0>"
      ]
     },
     "execution_count": 13,
     "metadata": {},
     "output_type": "execute_result"
    },
    {
     "data": {
      "image/png": "[encoded data removed]",
      "text/plain": [
       "<Figure size 432x288 with 1 Axes>"
      ]
     },
     "metadata": {
      "needs_background": "light"
     },
     "output_type": "display_data"
    }
   ],
   "source": [
    "plt.semilogy(D_range, err, label=\"|S_d(D) - S|\")   \n",
    "plt.xlabel(\"# of steps\", fontsize=12)\n",
    "plt.ylabel(\"Err (logscale)\", fontsize=12)\n",
    "plt.legend()"
   ]
  },
  {
   "cell_type": "markdown",
   "metadata": {},
   "source": [
    "## Parallel part"
   ]
  },
  {
   "cell_type": "code",
   "execution_count": 16,
   "metadata": {
    "ExecuteTime": {
     "end_time": "2019-11-27T22:53:30.105356Z",
     "start_time": "2019-11-27T22:50:11.872889Z"
    }
   },
   "outputs": [
    {
     "name": "stderr",
     "output_type": "stream",
     "text": [
      "100%|████████████████████████████████████████████████████████████████████████████████████| 7/7 [03:59<00:00, 34.15s/it]\n"
     ]
    }
   ],
   "source": [
    "times = []\n",
    "for i in tqdm.trange(1, 8):\n",
    "    time_parallel = %timeit -o -q !mpiexec -n {i} python \"C:/Users/DTM/Desktop/SK_MSc/HPPL/HighPerformancePython-master/integral.py\" -parallel 1\n",
    "    time_seq = %timeit -o -q !python integral.py -parallel 0\n",
    "    times.append([time_parallel.average, time_seq.average])\n",
    "    #print(f\"i: {i}, parallel: {time_parallel.average}, seq: {time_seq.average}\")"
   ]
  },
  {
   "cell_type": "code",
   "execution_count": 15,
   "metadata": {
    "ExecuteTime": {
     "end_time": "2019-11-28T07:13:15.894491Z",
     "start_time": "2019-11-28T07:13:15.397196Z"
    }
   },
   "outputs": [
    {
     "data": {
      "text/plain": [
       "Text(0, 0.5, 'Speedup (times)')"
      ]
     },
     "execution_count": 15,
     "metadata": {},
     "output_type": "execute_result"
    },
    {
     "data": {
      "image/png": "[encoded data removed]",
      "text/plain": [
       "<Figure size 432x288 with 1 Axes>"
      ]
     },
     "metadata": {
      "needs_background": "light"
     },
     "output_type": "display_data"
    }
   ],
   "source": [
    "speedup = [x / y for x,y in times]\n",
    "plt.plot(speedup)\n",
    "plt.xlabel(\"# of proccesses\", fontsize=12)\n",
    "plt.ylabel(\"Speedup (times)\", fontsize=12)"
   ]
  },
  {
   "cell_type": "code",
   "execution_count": null,
   "metadata": {},
   "outputs": [],
   "source": []
  }
 ],
 "metadata": {
  "kernelspec": {
   "display_name": "Python 3",
   "language": "python",
   "name": "python3"
  },
  "language_info": {
   "codemirror_mode": {
    "name": "ipython",
    "version": 3
   },
   "file_extension": ".py",
   "mimetype": "text/x-python",
   "name": "python",
   "nbconvert_exporter": "python",
   "pygments_lexer": "ipython3",
   "version": "3.8.6"
  }
 },
 "nbformat": 4,
 "nbformat_minor": 2
}
